{
 "cells": [
  {
   "cell_type": "markdown",
   "id": "2d1678d6",
   "metadata": {},
   "source": [
    "# Comcast Telecom Consumer Complaints"
   ]
  },
  {
   "cell_type": "code",
   "execution_count": 3,
   "id": "e6841543",
   "metadata": {},
   "outputs": [],
   "source": [
    "import numpy as np\n",
    "import pandas as pd\n",
    "import matplotlib.pyplot as plt"
   ]
  },
  {
   "cell_type": "markdown",
   "id": "3baf35dc",
   "metadata": {},
   "source": [
    "##Importing data"
   ]
  },
  {
   "cell_type": "code",
   "execution_count": 2,
   "id": "6a1dddbd",
   "metadata": {},
   "outputs": [],
   "source": [
    "df_complaints = pd.read_csv(\"E:\\python project\\Comcast_data.csv\")"
   ]
  },
  {
   "cell_type": "code",
   "execution_count": 4,
   "id": "3e9b9f2c",
   "metadata": {},
   "outputs": [
    {
     "data": {
      "text/html": [
       "<div>\n",
       "<style scoped>\n",
       "    .dataframe tbody tr th:only-of-type {\n",
       "        vertical-align: middle;\n",
       "    }\n",
       "\n",
       "    .dataframe tbody tr th {\n",
       "        vertical-align: top;\n",
       "    }\n",
       "\n",
       "    .dataframe thead th {\n",
       "        text-align: right;\n",
       "    }\n",
       "</style>\n",
       "<table border=\"1\" class=\"dataframe\">\n",
       "  <thead>\n",
       "    <tr style=\"text-align: right;\">\n",
       "      <th></th>\n",
       "      <th>Ticket #</th>\n",
       "      <th>Customer Complaint</th>\n",
       "      <th>Date</th>\n",
       "      <th>Date_month_year</th>\n",
       "      <th>Time</th>\n",
       "      <th>Received Via</th>\n",
       "      <th>City</th>\n",
       "      <th>State</th>\n",
       "      <th>Zip code</th>\n",
       "      <th>Status</th>\n",
       "      <th>Filing on Behalf of Someone</th>\n",
       "    </tr>\n",
       "  </thead>\n",
       "  <tbody>\n",
       "    <tr>\n",
       "      <th>0</th>\n",
       "      <td>250635</td>\n",
       "      <td>Comcast Cable Internet Speeds</td>\n",
       "      <td>22-04-15</td>\n",
       "      <td>22-Apr-15</td>\n",
       "      <td>3:53:50 PM</td>\n",
       "      <td>Customer Care Call</td>\n",
       "      <td>Abingdon</td>\n",
       "      <td>Maryland</td>\n",
       "      <td>21009</td>\n",
       "      <td>Closed</td>\n",
       "      <td>No</td>\n",
       "    </tr>\n",
       "    <tr>\n",
       "      <th>1</th>\n",
       "      <td>223441</td>\n",
       "      <td>Payment disappear - service got disconnected</td>\n",
       "      <td>04-08-15</td>\n",
       "      <td>04-Aug-15</td>\n",
       "      <td>10:22:56 AM</td>\n",
       "      <td>Internet</td>\n",
       "      <td>Acworth</td>\n",
       "      <td>Georgia</td>\n",
       "      <td>30102</td>\n",
       "      <td>Closed</td>\n",
       "      <td>No</td>\n",
       "    </tr>\n",
       "    <tr>\n",
       "      <th>2</th>\n",
       "      <td>242732</td>\n",
       "      <td>Speed and Service</td>\n",
       "      <td>18-04-15</td>\n",
       "      <td>18-Apr-15</td>\n",
       "      <td>9:55:47 AM</td>\n",
       "      <td>Internet</td>\n",
       "      <td>Acworth</td>\n",
       "      <td>Georgia</td>\n",
       "      <td>30101</td>\n",
       "      <td>Closed</td>\n",
       "      <td>Yes</td>\n",
       "    </tr>\n",
       "    <tr>\n",
       "      <th>3</th>\n",
       "      <td>277946</td>\n",
       "      <td>Comcast Imposed a New Usage Cap of 300GB that ...</td>\n",
       "      <td>05-07-15</td>\n",
       "      <td>05-Jul-15</td>\n",
       "      <td>11:59:35 AM</td>\n",
       "      <td>Internet</td>\n",
       "      <td>Acworth</td>\n",
       "      <td>Georgia</td>\n",
       "      <td>30101</td>\n",
       "      <td>Open</td>\n",
       "      <td>Yes</td>\n",
       "    </tr>\n",
       "    <tr>\n",
       "      <th>4</th>\n",
       "      <td>307175</td>\n",
       "      <td>Comcast not working and no service to boot</td>\n",
       "      <td>26-05-15</td>\n",
       "      <td>26-May-15</td>\n",
       "      <td>1:25:26 PM</td>\n",
       "      <td>Internet</td>\n",
       "      <td>Acworth</td>\n",
       "      <td>Georgia</td>\n",
       "      <td>30101</td>\n",
       "      <td>Solved</td>\n",
       "      <td>No</td>\n",
       "    </tr>\n",
       "  </tbody>\n",
       "</table>\n",
       "</div>"
      ],
      "text/plain": [
       "  Ticket #                                 Customer Complaint      Date  \\\n",
       "0   250635                      Comcast Cable Internet Speeds  22-04-15   \n",
       "1   223441       Payment disappear - service got disconnected  04-08-15   \n",
       "2   242732                                  Speed and Service  18-04-15   \n",
       "3   277946  Comcast Imposed a New Usage Cap of 300GB that ...  05-07-15   \n",
       "4   307175         Comcast not working and no service to boot  26-05-15   \n",
       "\n",
       "  Date_month_year         Time        Received Via      City     State  \\\n",
       "0       22-Apr-15   3:53:50 PM  Customer Care Call  Abingdon  Maryland   \n",
       "1       04-Aug-15  10:22:56 AM            Internet   Acworth   Georgia   \n",
       "2       18-Apr-15   9:55:47 AM            Internet   Acworth   Georgia   \n",
       "3       05-Jul-15  11:59:35 AM            Internet   Acworth   Georgia   \n",
       "4       26-May-15   1:25:26 PM            Internet   Acworth   Georgia   \n",
       "\n",
       "   Zip code  Status Filing on Behalf of Someone  \n",
       "0     21009  Closed                          No  \n",
       "1     30102  Closed                          No  \n",
       "2     30101  Closed                         Yes  \n",
       "3     30101    Open                         Yes  \n",
       "4     30101  Solved                          No  "
      ]
     },
     "execution_count": 4,
     "metadata": {},
     "output_type": "execute_result"
    }
   ],
   "source": [
    "df_complaints.head()"
   ]
  },
  {
   "cell_type": "code",
   "execution_count": 5,
   "id": "3d44835f",
   "metadata": {},
   "outputs": [],
   "source": [
    "df_complaints[\"date_index\"] = df_complaints[\"Date_month_year\"] + \" \" + df_complaints[\"Time\"]\n",
    "df_complaints[\"date_index\"] = pd.to_datetime(df_complaints[\"date_index\"])\n",
    "df_complaints[\"Date_month_year\"] = pd.to_datetime(df_complaints[\"Date_month_year\"])\n",
    "df_complaints = df_complaints.set_index(df_complaints[\"date_index\"])"
   ]
  },
  {
   "cell_type": "markdown",
   "id": "fa3f2e35",
   "metadata": {},
   "source": [
    "##Chart for the number of complaints at monthly granularity levels"
   ]
  },
  {
   "cell_type": "code",
   "execution_count": 6,
   "id": "b94bc0fb",
   "metadata": {},
   "outputs": [
    {
     "data": {
      "text/plain": [
       "<AxesSubplot:xlabel='date_index'>"
      ]
     },
     "execution_count": 6,
     "metadata": {},
     "output_type": "execute_result"
    },
    {
     "data": {
      "image/png": "[encoded data removed]",
      "text/plain": [
       "<Figure size 432x288 with 1 Axes>"
      ]
     },
     "metadata": {
      "needs_background": "light"
     },
     "output_type": "display_data"
    }
   ],
   "source": [
    "df_complaints.groupby(pd.Grouper(freq=\"M\")).size().plot()"
   ]
  },
  {
   "cell_type": "markdown",
   "id": "394ee3be",
   "metadata": {},
   "source": [
    "##Chart for the number of complaints at daily granularity levels"
   ]
  },
  {
   "cell_type": "code",
   "execution_count": 7,
   "id": "bf3964ff",
   "metadata": {},
   "outputs": [
    {
     "data": {
      "text/plain": [
       "<AxesSubplot:xlabel='Day of Month'>"
      ]
     },
     "execution_count": 7,
     "metadata": {},
     "output_type": "execute_result"
    },
    {
     "data": {
      "image/png": "[encoded data removed]",
      "text/plain": [
       "<Figure size 432x288 with 1 Axes>"
      ]
     },
     "metadata": {
      "needs_background": "light"
     },
     "output_type": "display_data"
    }
   ],
   "source": [
    "df_complaints['Day of Month'] = pd.to_datetime(df_complaints[\"Date\"])\n",
    "df_complaints = df_complaints.set_index(df_complaints[\"Day of Month\"])\n",
    "df_complaints.groupby(pd.Grouper(freq=\"D\")).size().plot()"
   ]
  },
  {
   "cell_type": "markdown",
   "id": "8546e80e",
   "metadata": {},
   "source": [
    "##Frequency of complaint types"
   ]
  },
  {
   "cell_type": "code",
   "execution_count": 10,
   "id": "4cc65bbe",
   "metadata": {},
   "outputs": [],
   "source": [
    "df_type = df_complaints['Customer Complaint'].str.upper().value_counts()"
   ]
  },
  {
   "cell_type": "code",
   "execution_count": 11,
   "id": "e9af6ffc",
   "metadata": {},
   "outputs": [
    {
     "data": {
      "text/plain": [
       "COMCAST                             102\n",
       "COMCAST DATA CAP                     30\n",
       "COMCAST INTERNET                     29\n",
       "COMCAST DATA CAPS                    21\n",
       "COMCAST BILLING                      18\n",
       "COMCAST SERVICE                      15\n",
       "INTERNET SPEED                       15\n",
       "UNFAIR BILLING PRACTICES             13\n",
       "DATA CAPS                            13\n",
       "DATA CAP                             12\n",
       "COMCAST COMPLAINT                    11\n",
       "COMCAST/XFINITY                      11\n",
       "COMCAST INTERNET SERVICE             10\n",
       "BILLING                               9\n",
       "BILLING ISSUES                        8\n",
       "COMCAST CABLE                         5\n",
       "INTERNET                              5\n",
       "COMCAST BILLING COMPLAINT             5\n",
       "COMCAST ISSUES                        5\n",
       "COMCAST BILLING PRACTICES             5\n",
       "SERVICE ISSUES                        5\n",
       "SLOW INTERNET                         5\n",
       "INTERNET SERVICE                      5\n",
       "COMPLAINT AGAINST COMCAST             5\n",
       "COMCAST UNFAIR BILLING PRACTICES      4\n",
       "Name: Customer Complaint, dtype: int64"
      ]
     },
     "execution_count": 11,
     "metadata": {},
     "output_type": "execute_result"
    }
   ],
   "source": [
    "df_type.head(25)"
   ]
  },
  {
   "cell_type": "markdown",
   "id": "d6996d4a",
   "metadata": {},
   "source": [
    "Complaint types are maximum around Comcast , Comcast data Cap , Comcast Internet , Comcast data Cap , Comcast Billing"
   ]
  },
  {
   "cell_type": "markdown",
   "id": "3298a342",
   "metadata": {},
   "source": [
    "##New categorical variable with value as Open and Closed.\n",
    "\n",
    "Open & Pending is to be categorized as Open and Closed & Solved is to be categorized as Closed."
   ]
  },
  {
   "cell_type": "code",
   "execution_count": 12,
   "id": "a6e54fc8",
   "metadata": {},
   "outputs": [],
   "source": [
    "df_complaints[\"newStatus\"] = [\"Open\" if Status==\"Open\" or Status==\"Pending\" else \"Closed\" for Status in df_complaints[\"Status\"]]"
   ]
  },
  {
   "cell_type": "code",
   "execution_count": 13,
   "id": "e6e9ba26",
   "metadata": {},
   "outputs": [],
   "source": [
    "df_status = df_complaints.groupby('State').newStatus.value_counts().unstack()"
   ]
  },
  {
   "cell_type": "code",
   "execution_count": 14,
   "id": "8bdba5f4",
   "metadata": {},
   "outputs": [
    {
     "data": {
      "text/html": [
       "<div>\n",
       "<style scoped>\n",
       "    .dataframe tbody tr th:only-of-type {\n",
       "        vertical-align: middle;\n",
       "    }\n",
       "\n",
       "    .dataframe tbody tr th {\n",
       "        vertical-align: top;\n",
       "    }\n",
       "\n",
       "    .dataframe thead th {\n",
       "        text-align: right;\n",
       "    }\n",
       "</style>\n",
       "<table border=\"1\" class=\"dataframe\">\n",
       "  <thead>\n",
       "    <tr style=\"text-align: right;\">\n",
       "      <th>newStatus</th>\n",
       "      <th>Closed</th>\n",
       "      <th>Open</th>\n",
       "    </tr>\n",
       "    <tr>\n",
       "      <th>State</th>\n",
       "      <th></th>\n",
       "      <th></th>\n",
       "    </tr>\n",
       "  </thead>\n",
       "  <tbody>\n",
       "    <tr>\n",
       "      <th>Alabama</th>\n",
       "      <td>17.0</td>\n",
       "      <td>9.0</td>\n",
       "    </tr>\n",
       "    <tr>\n",
       "      <th>Arizona</th>\n",
       "      <td>14.0</td>\n",
       "      <td>6.0</td>\n",
       "    </tr>\n",
       "    <tr>\n",
       "      <th>Arkansas</th>\n",
       "      <td>6.0</td>\n",
       "      <td>NaN</td>\n",
       "    </tr>\n",
       "    <tr>\n",
       "      <th>California</th>\n",
       "      <td>159.0</td>\n",
       "      <td>61.0</td>\n",
       "    </tr>\n",
       "    <tr>\n",
       "      <th>Colorado</th>\n",
       "      <td>58.0</td>\n",
       "      <td>22.0</td>\n",
       "    </tr>\n",
       "    <tr>\n",
       "      <th>Connecticut</th>\n",
       "      <td>9.0</td>\n",
       "      <td>3.0</td>\n",
       "    </tr>\n",
       "    <tr>\n",
       "      <th>Delaware</th>\n",
       "      <td>8.0</td>\n",
       "      <td>4.0</td>\n",
       "    </tr>\n",
       "    <tr>\n",
       "      <th>District Of Columbia</th>\n",
       "      <td>14.0</td>\n",
       "      <td>2.0</td>\n",
       "    </tr>\n",
       "    <tr>\n",
       "      <th>District of Columbia</th>\n",
       "      <td>1.0</td>\n",
       "      <td>NaN</td>\n",
       "    </tr>\n",
       "    <tr>\n",
       "      <th>Florida</th>\n",
       "      <td>201.0</td>\n",
       "      <td>39.0</td>\n",
       "    </tr>\n",
       "    <tr>\n",
       "      <th>Georgia</th>\n",
       "      <td>208.0</td>\n",
       "      <td>80.0</td>\n",
       "    </tr>\n",
       "    <tr>\n",
       "      <th>Illinois</th>\n",
       "      <td>135.0</td>\n",
       "      <td>29.0</td>\n",
       "    </tr>\n",
       "    <tr>\n",
       "      <th>Indiana</th>\n",
       "      <td>50.0</td>\n",
       "      <td>9.0</td>\n",
       "    </tr>\n",
       "    <tr>\n",
       "      <th>Iowa</th>\n",
       "      <td>1.0</td>\n",
       "      <td>NaN</td>\n",
       "    </tr>\n",
       "    <tr>\n",
       "      <th>Kansas</th>\n",
       "      <td>1.0</td>\n",
       "      <td>1.0</td>\n",
       "    </tr>\n",
       "    <tr>\n",
       "      <th>Kentucky</th>\n",
       "      <td>4.0</td>\n",
       "      <td>3.0</td>\n",
       "    </tr>\n",
       "    <tr>\n",
       "      <th>Louisiana</th>\n",
       "      <td>12.0</td>\n",
       "      <td>1.0</td>\n",
       "    </tr>\n",
       "    <tr>\n",
       "      <th>Maine</th>\n",
       "      <td>3.0</td>\n",
       "      <td>2.0</td>\n",
       "    </tr>\n",
       "    <tr>\n",
       "      <th>Maryland</th>\n",
       "      <td>63.0</td>\n",
       "      <td>15.0</td>\n",
       "    </tr>\n",
       "    <tr>\n",
       "      <th>Massachusetts</th>\n",
       "      <td>50.0</td>\n",
       "      <td>11.0</td>\n",
       "    </tr>\n",
       "    <tr>\n",
       "      <th>Michigan</th>\n",
       "      <td>92.0</td>\n",
       "      <td>23.0</td>\n",
       "    </tr>\n",
       "    <tr>\n",
       "      <th>Minnesota</th>\n",
       "      <td>29.0</td>\n",
       "      <td>4.0</td>\n",
       "    </tr>\n",
       "    <tr>\n",
       "      <th>Mississippi</th>\n",
       "      <td>23.0</td>\n",
       "      <td>16.0</td>\n",
       "    </tr>\n",
       "    <tr>\n",
       "      <th>Missouri</th>\n",
       "      <td>3.0</td>\n",
       "      <td>1.0</td>\n",
       "    </tr>\n",
       "    <tr>\n",
       "      <th>Montana</th>\n",
       "      <td>1.0</td>\n",
       "      <td>NaN</td>\n",
       "    </tr>\n",
       "  </tbody>\n",
       "</table>\n",
       "</div>"
      ],
      "text/plain": [
       "newStatus             Closed  Open\n",
       "State                             \n",
       "Alabama                 17.0   9.0\n",
       "Arizona                 14.0   6.0\n",
       "Arkansas                 6.0   NaN\n",
       "California             159.0  61.0\n",
       "Colorado                58.0  22.0\n",
       "Connecticut              9.0   3.0\n",
       "Delaware                 8.0   4.0\n",
       "District Of Columbia    14.0   2.0\n",
       "District of Columbia     1.0   NaN\n",
       "Florida                201.0  39.0\n",
       "Georgia                208.0  80.0\n",
       "Illinois               135.0  29.0\n",
       "Indiana                 50.0   9.0\n",
       "Iowa                     1.0   NaN\n",
       "Kansas                   1.0   1.0\n",
       "Kentucky                 4.0   3.0\n",
       "Louisiana               12.0   1.0\n",
       "Maine                    3.0   2.0\n",
       "Maryland                63.0  15.0\n",
       "Massachusetts           50.0  11.0\n",
       "Michigan                92.0  23.0\n",
       "Minnesota               29.0   4.0\n",
       "Mississippi             23.0  16.0\n",
       "Missouri                 3.0   1.0\n",
       "Montana                  1.0   NaN"
      ]
     },
     "execution_count": 14,
     "metadata": {},
     "output_type": "execute_result"
    }
   ],
   "source": [
    "df_status.head(25)"
   ]
  },
  {
   "cell_type": "code",
   "execution_count": 16,
   "id": "901c8060",
   "metadata": {},
   "outputs": [
    {
     "data": {
      "text/plain": [
       "<AxesSubplot:xlabel='State'>"
      ]
     },
     "execution_count": 16,
     "metadata": {},
     "output_type": "execute_result"
    },
    {
     "data": {
      "text/plain": [
       "<Figure size 20000x10000 with 0 Axes>"
      ]
     },
     "metadata": {},
     "output_type": "display_data"
    },
    {
     "data": {
      "image/png": "[encoded data removed]",
      "text/plain": [
       "<Figure size 600x400 with 1 Axes>"
      ]
     },
     "metadata": {
      "needs_background": "light"
     },
     "output_type": "display_data"
    }
   ],
   "source": [
    "plt.figure(figsize=(100,50)) \n",
    "plt.rcParams['figure.dpi'] = 100\n",
    "df_status.plot(kind='bar', stacked=True)"
   ]
  },
  {
   "cell_type": "markdown",
   "id": "4bd902b6",
   "metadata": {},
   "source": [
    "State with maximum number of complaints: Georgia"
   ]
  },
  {
   "cell_type": "code",
   "execution_count": 17,
   "id": "a4dce8b9",
   "metadata": {},
   "outputs": [
    {
     "data": {
      "text/plain": [
       "Georgia          80\n",
       "California       61\n",
       "Tennessee        47\n",
       "Florida          39\n",
       "Illinois         29\n",
       "Michigan         23\n",
       "Washington       23\n",
       "Texas            22\n",
       "Colorado         22\n",
       "Pennsylvania     20\n",
       "New Jersey       19\n",
       "Mississippi      16\n",
       "Maryland         15\n",
       "Oregon           13\n",
       "Massachusetts    11\n",
       "Virginia         11\n",
       "Indiana           9\n",
       "Alabama           9\n",
       "Arizona           6\n",
       "Utah              6\n",
       "New Hampshire     4\n",
       "Delaware          4\n",
       "Minnesota         4\n",
       "New Mexico        4\n",
       "Connecticut       3\n",
       "Name: State, dtype: int64"
      ]
     },
     "execution_count": 17,
     "metadata": {},
     "output_type": "execute_result"
    }
   ],
   "source": [
    "# Unresolved complaints distribution across States\n",
    "df_unresolved = df_complaints[df_complaints['newStatus']=='Open']\n",
    "colors = ['#cc566a','#5ba85f','#7f67ca','#ca6b39','#c360aa','#a7993f','#639ace']\n",
    "df_unresolved = df_unresolved['State'].value_counts()\n",
    "df_unresolved.head(25)"
   ]
  },
  {
   "cell_type": "code",
   "execution_count": 25,
   "id": "218cf4a6",
   "metadata": {},
   "outputs": [
    {
     "data": {
      "image/png": "[encoded data removed]",
      "text/plain": [
       "<Figure size 400x300 with 1 Axes>"
      ]
     },
     "metadata": {},
     "output_type": "display_data"
    }
   ],
   "source": [
    "df_unresolved.head().plot(kind='pie',autopct='%1.1f%%',\n",
    "                        explode = (0.1, 0, 0, 0, 0), startangle=45, colors = colors,\n",
    "                        figsize = (4,3))\n",
    "plt.axis('equal')\n",
    "plt.title('Unresolved complaints distribution across State\\n')\n",
    "plt.tight_layout()\n",
    "plt.show()"
   ]
  },
  {
   "cell_type": "markdown",
   "id": "5384aaf2",
   "metadata": {},
   "source": [
    "State with maximum number of unresolved complaints: Georgia"
   ]
  },
  {
   "cell_type": "markdown",
   "id": "2c2cb471",
   "metadata": {},
   "source": [
    "##Percentage of complaints resolved till date received via Internet & calls"
   ]
  },
  {
   "cell_type": "code",
   "execution_count": 26,
   "id": "1f385fc5",
   "metadata": {},
   "outputs": [],
   "source": [
    "df_received = df_complaints[df_complaints['Received Via'].isin(['Internet','Customer Care Call'])]"
   ]
  },
  {
   "cell_type": "code",
   "execution_count": 27,
   "id": "48867549",
   "metadata": {},
   "outputs": [
    {
     "data": {
      "text/html": [
       "<div>\n",
       "<style scoped>\n",
       "    .dataframe tbody tr th:only-of-type {\n",
       "        vertical-align: middle;\n",
       "    }\n",
       "\n",
       "    .dataframe tbody tr th {\n",
       "        vertical-align: top;\n",
       "    }\n",
       "\n",
       "    .dataframe thead th {\n",
       "        text-align: right;\n",
       "    }\n",
       "</style>\n",
       "<table border=\"1\" class=\"dataframe\">\n",
       "  <thead>\n",
       "    <tr style=\"text-align: right;\">\n",
       "      <th></th>\n",
       "      <th>Ticket #</th>\n",
       "      <th>Customer Complaint</th>\n",
       "      <th>Date</th>\n",
       "      <th>Date_month_year</th>\n",
       "      <th>Time</th>\n",
       "      <th>Received Via</th>\n",
       "      <th>City</th>\n",
       "      <th>State</th>\n",
       "      <th>Zip code</th>\n",
       "      <th>Status</th>\n",
       "      <th>Filing on Behalf of Someone</th>\n",
       "      <th>date_index</th>\n",
       "      <th>Day of Month</th>\n",
       "      <th>newStatus</th>\n",
       "    </tr>\n",
       "    <tr>\n",
       "      <th>Day of Month</th>\n",
       "      <th></th>\n",
       "      <th></th>\n",
       "      <th></th>\n",
       "      <th></th>\n",
       "      <th></th>\n",
       "      <th></th>\n",
       "      <th></th>\n",
       "      <th></th>\n",
       "      <th></th>\n",
       "      <th></th>\n",
       "      <th></th>\n",
       "      <th></th>\n",
       "      <th></th>\n",
       "      <th></th>\n",
       "    </tr>\n",
       "  </thead>\n",
       "  <tbody>\n",
       "    <tr>\n",
       "      <th>2015-04-22</th>\n",
       "      <td>250635</td>\n",
       "      <td>Comcast Cable Internet Speeds</td>\n",
       "      <td>22-04-15</td>\n",
       "      <td>2015-04-22</td>\n",
       "      <td>3:53:50 PM</td>\n",
       "      <td>Customer Care Call</td>\n",
       "      <td>Abingdon</td>\n",
       "      <td>Maryland</td>\n",
       "      <td>21009</td>\n",
       "      <td>Closed</td>\n",
       "      <td>No</td>\n",
       "      <td>2015-04-22 15:53:50</td>\n",
       "      <td>2015-04-22</td>\n",
       "      <td>Closed</td>\n",
       "    </tr>\n",
       "    <tr>\n",
       "      <th>2015-04-08</th>\n",
       "      <td>223441</td>\n",
       "      <td>Payment disappear - service got disconnected</td>\n",
       "      <td>04-08-15</td>\n",
       "      <td>2015-08-04</td>\n",
       "      <td>10:22:56 AM</td>\n",
       "      <td>Internet</td>\n",
       "      <td>Acworth</td>\n",
       "      <td>Georgia</td>\n",
       "      <td>30102</td>\n",
       "      <td>Closed</td>\n",
       "      <td>No</td>\n",
       "      <td>2015-08-04 10:22:56</td>\n",
       "      <td>2015-04-08</td>\n",
       "      <td>Closed</td>\n",
       "    </tr>\n",
       "    <tr>\n",
       "      <th>2015-04-18</th>\n",
       "      <td>242732</td>\n",
       "      <td>Speed and Service</td>\n",
       "      <td>18-04-15</td>\n",
       "      <td>2015-04-18</td>\n",
       "      <td>9:55:47 AM</td>\n",
       "      <td>Internet</td>\n",
       "      <td>Acworth</td>\n",
       "      <td>Georgia</td>\n",
       "      <td>30101</td>\n",
       "      <td>Closed</td>\n",
       "      <td>Yes</td>\n",
       "      <td>2015-04-18 09:55:47</td>\n",
       "      <td>2015-04-18</td>\n",
       "      <td>Closed</td>\n",
       "    </tr>\n",
       "    <tr>\n",
       "      <th>2015-05-07</th>\n",
       "      <td>277946</td>\n",
       "      <td>Comcast Imposed a New Usage Cap of 300GB that ...</td>\n",
       "      <td>05-07-15</td>\n",
       "      <td>2015-07-05</td>\n",
       "      <td>11:59:35 AM</td>\n",
       "      <td>Internet</td>\n",
       "      <td>Acworth</td>\n",
       "      <td>Georgia</td>\n",
       "      <td>30101</td>\n",
       "      <td>Open</td>\n",
       "      <td>Yes</td>\n",
       "      <td>2015-07-05 11:59:35</td>\n",
       "      <td>2015-05-07</td>\n",
       "      <td>Open</td>\n",
       "    </tr>\n",
       "    <tr>\n",
       "      <th>2015-05-26</th>\n",
       "      <td>307175</td>\n",
       "      <td>Comcast not working and no service to boot</td>\n",
       "      <td>26-05-15</td>\n",
       "      <td>2015-05-26</td>\n",
       "      <td>1:25:26 PM</td>\n",
       "      <td>Internet</td>\n",
       "      <td>Acworth</td>\n",
       "      <td>Georgia</td>\n",
       "      <td>30101</td>\n",
       "      <td>Solved</td>\n",
       "      <td>No</td>\n",
       "      <td>2015-05-26 13:25:26</td>\n",
       "      <td>2015-05-26</td>\n",
       "      <td>Closed</td>\n",
       "    </tr>\n",
       "  </tbody>\n",
       "</table>\n",
       "</div>"
      ],
      "text/plain": [
       "             Ticket #                                 Customer Complaint  \\\n",
       "Day of Month                                                               \n",
       "2015-04-22     250635                      Comcast Cable Internet Speeds   \n",
       "2015-04-08     223441       Payment disappear - service got disconnected   \n",
       "2015-04-18     242732                                  Speed and Service   \n",
       "2015-05-07     277946  Comcast Imposed a New Usage Cap of 300GB that ...   \n",
       "2015-05-26     307175         Comcast not working and no service to boot   \n",
       "\n",
       "                  Date Date_month_year         Time        Received Via  \\\n",
       "Day of Month                                                              \n",
       "2015-04-22    22-04-15      2015-04-22   3:53:50 PM  Customer Care Call   \n",
       "2015-04-08    04-08-15      2015-08-04  10:22:56 AM            Internet   \n",
       "2015-04-18    18-04-15      2015-04-18   9:55:47 AM            Internet   \n",
       "2015-05-07    05-07-15      2015-07-05  11:59:35 AM            Internet   \n",
       "2015-05-26    26-05-15      2015-05-26   1:25:26 PM            Internet   \n",
       "\n",
       "                  City     State  Zip code  Status  \\\n",
       "Day of Month                                         \n",
       "2015-04-22    Abingdon  Maryland     21009  Closed   \n",
       "2015-04-08     Acworth   Georgia     30102  Closed   \n",
       "2015-04-18     Acworth   Georgia     30101  Closed   \n",
       "2015-05-07     Acworth   Georgia     30101    Open   \n",
       "2015-05-26     Acworth   Georgia     30101  Solved   \n",
       "\n",
       "             Filing on Behalf of Someone          date_index Day of Month  \\\n",
       "Day of Month                                                                \n",
       "2015-04-22                            No 2015-04-22 15:53:50   2015-04-22   \n",
       "2015-04-08                            No 2015-08-04 10:22:56   2015-04-08   \n",
       "2015-04-18                           Yes 2015-04-18 09:55:47   2015-04-18   \n",
       "2015-05-07                           Yes 2015-07-05 11:59:35   2015-05-07   \n",
       "2015-05-26                            No 2015-05-26 13:25:26   2015-05-26   \n",
       "\n",
       "             newStatus  \n",
       "Day of Month            \n",
       "2015-04-22      Closed  \n",
       "2015-04-08      Closed  \n",
       "2015-04-18      Closed  \n",
       "2015-05-07        Open  \n",
       "2015-05-26      Closed  "
      ]
     },
     "execution_count": 27,
     "metadata": {},
     "output_type": "execute_result"
    }
   ],
   "source": [
    "df_received.head()"
   ]
  },
  {
   "cell_type": "code",
   "execution_count": 28,
   "id": "63a29553",
   "metadata": {},
   "outputs": [
    {
     "data": {
      "text/plain": [
       "Closed    1707\n",
       "Open       517\n",
       "Name: newStatus, dtype: int64"
      ]
     },
     "execution_count": 28,
     "metadata": {},
     "output_type": "execute_result"
    }
   ],
   "source": [
    "df_received.newStatus.value_counts()\n"
   ]
  },
  {
   "cell_type": "code",
   "execution_count": 32,
   "id": "cf8fa466",
   "metadata": {},
   "outputs": [
    {
     "data": {
      "image/png": "[encoded data removed]",
      "text/plain": [
       "<Figure size 400x300 with 1 Axes>"
      ]
     },
     "metadata": {},
     "output_type": "display_data"
    }
   ],
   "source": [
    "df_received.newStatus.value_counts().plot(kind='pie',autopct='%1.1f%%',\n",
    "                         startangle=45, colors = colors,\n",
    "                        figsize = (4,3))\n",
    "plt.axis('equal')\n",
    "plt.title('# complaints Status through Internet & Customer Care\\n')\n",
    "plt.tight_layout()\n",
    "plt.show()"
   ]
  },
  {
   "cell_type": "code",
   "execution_count": 33,
   "id": "399646be",
   "metadata": {},
   "outputs": [],
   "source": [
    "df_received_closed = df_received[df_received['newStatus']=='Closed']"
   ]
  },
  {
   "cell_type": "code",
   "execution_count": 34,
   "id": "74e0a932",
   "metadata": {},
   "outputs": [
    {
     "data": {
      "text/plain": [
       "Closed    1707\n",
       "Name: newStatus, dtype: int64"
      ]
     },
     "execution_count": 34,
     "metadata": {},
     "output_type": "execute_result"
    }
   ],
   "source": [
    "df_received_closed.newStatus.value_counts()"
   ]
  },
  {
   "cell_type": "code",
   "execution_count": null,
   "id": "97b060b7",
   "metadata": {},
   "outputs": [],
   "source": []
  }
 ],
 "metadata": {
  "kernelspec": {
   "display_name": "Python 3 (ipykernel)",
   "language": "python",
   "name": "python3"
  },
  "language_info": {
   "codemirror_mode": {
    "name": "ipython",
    "version": 3
   },
   "file_extension": ".py",
   "mimetype": "text/x-python",
   "name": "python",
   "nbconvert_exporter": "python",
   "pygments_lexer": "ipython3",
   "version": "3.9.7"
  }
 },
 "nbformat": 4,
 "nbformat_minor": 5
}
